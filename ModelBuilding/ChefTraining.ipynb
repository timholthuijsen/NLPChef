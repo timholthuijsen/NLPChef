{
  "nbformat": 4,
  "nbformat_minor": 0,
  "metadata": {
    "colab": {
      "name": "ChefTraining.ipynb",
      "provenance": [],
      "collapsed_sections": [],
      "toc_visible": true
    },
    "kernelspec": {
      "name": "python3",
      "display_name": "Python 3"
    },
    "language_info": {
      "name": "python"
    },
    "accelerator": "GPU"
  },
  "cells": [
    {
      "cell_type": "markdown",
      "metadata": {
        "id": "j6MkJOR_Eatk"
      },
      "source": [
        "# Model Training\n",
        "This notebook is used for training our own custom NLP cooking model. This is done using run_experiments.sh, run_lm_finetuning.py, and TrainingData.txt. Note that this notebook does not work in a general Jupyter Notebook environment. Rather, Google Colab was used to run this notebook and train the model. It was currently trained with a batch size of 1 over 3 epochs on my GPU, which lasted a very long time to train. With access to more advanced hardware, it might be possible to increase batch size and number of epochs, leading to an even more skillful model."
      ]
    },
    {
      "cell_type": "code",
      "metadata": {
        "colab": {
          "base_uri": "https://localhost:8080/"
        },
        "id": "HfoTSVOhRMwW",
        "outputId": "25fe9bb5-4db5-47b5-c685-1e1c63439d9e"
      },
      "source": [
        "!git clone https://github.com/huggingface/transformers;\n",
        "!cd transformers; pip3 install ."
      ],
      "execution_count": null,
      "outputs": [
        {
          "output_type": "stream",
          "text": [
            "Cloning into 'transformers'...\n",
            "remote: Enumerating objects: 72664, done.\u001b[K\n",
            "remote: Counting objects: 100% (700/700), done.\u001b[K\n",
            "remote: Compressing objects: 100% (365/365), done.\u001b[K\n",
            "remote: Total 72664 (delta 400), reused 505 (delta 295), pack-reused 71964\u001b[K\n",
            "Receiving objects: 100% (72664/72664), 56.10 MiB | 29.29 MiB/s, done.\n",
            "Resolving deltas: 100% (51536/51536), done.\n",
            "Processing /content/transformers\n",
            "  Installing build dependencies ... \u001b[?25l\u001b[?25hdone\n",
            "  Getting requirements to build wheel ... \u001b[?25l\u001b[?25hdone\n",
            "    Preparing wheel metadata ... \u001b[?25l\u001b[?25hdone\n",
            "Requirement already satisfied: packaging in /usr/local/lib/python3.7/dist-packages (from transformers==4.7.0.dev0) (20.9)\n",
            "Requirement already satisfied: numpy>=1.17 in /usr/local/lib/python3.7/dist-packages (from transformers==4.7.0.dev0) (1.19.5)\n",
            "Requirement already satisfied: regex!=2019.12.17 in /usr/local/lib/python3.7/dist-packages (from transformers==4.7.0.dev0) (2019.12.20)\n",
            "Requirement already satisfied: requests in /usr/local/lib/python3.7/dist-packages (from transformers==4.7.0.dev0) (2.23.0)\n",
            "Collecting sacremoses\n",
            "\u001b[?25l  Downloading https://files.pythonhosted.org/packages/75/ee/67241dc87f266093c533a2d4d3d69438e57d7a90abb216fa076e7d475d4a/sacremoses-0.0.45-py3-none-any.whl (895kB)\n",
            "\u001b[K     |████████████████████████████████| 901kB 6.5MB/s \n",
            "\u001b[?25hCollecting huggingface-hub==0.0.8\n",
            "  Downloading https://files.pythonhosted.org/packages/a1/88/7b1e45720ecf59c6c6737ff332f41c955963090a18e72acbcbeac6b25e86/huggingface_hub-0.0.8-py3-none-any.whl\n",
            "Requirement already satisfied: importlib-metadata; python_version < \"3.8\" in /usr/local/lib/python3.7/dist-packages (from transformers==4.7.0.dev0) (4.0.1)\n",
            "Requirement already satisfied: filelock in /usr/local/lib/python3.7/dist-packages (from transformers==4.7.0.dev0) (3.0.12)\n",
            "Requirement already satisfied: tqdm>=4.27 in /usr/local/lib/python3.7/dist-packages (from transformers==4.7.0.dev0) (4.41.1)\n",
            "Collecting tokenizers<0.11,>=0.10.1\n",
            "\u001b[?25l  Downloading https://files.pythonhosted.org/packages/ae/04/5b870f26a858552025a62f1649c20d29d2672c02ff3c3fb4c688ca46467a/tokenizers-0.10.2-cp37-cp37m-manylinux2010_x86_64.whl (3.3MB)\n",
            "\u001b[K     |████████████████████████████████| 3.3MB 15.6MB/s \n",
            "\u001b[?25hRequirement already satisfied: pyparsing>=2.0.2 in /usr/local/lib/python3.7/dist-packages (from packaging->transformers==4.7.0.dev0) (2.4.7)\n",
            "Requirement already satisfied: urllib3!=1.25.0,!=1.25.1,<1.26,>=1.21.1 in /usr/local/lib/python3.7/dist-packages (from requests->transformers==4.7.0.dev0) (1.24.3)\n",
            "Requirement already satisfied: chardet<4,>=3.0.2 in /usr/local/lib/python3.7/dist-packages (from requests->transformers==4.7.0.dev0) (3.0.4)\n",
            "Requirement already satisfied: certifi>=2017.4.17 in /usr/local/lib/python3.7/dist-packages (from requests->transformers==4.7.0.dev0) (2020.12.5)\n",
            "Requirement already satisfied: idna<3,>=2.5 in /usr/local/lib/python3.7/dist-packages (from requests->transformers==4.7.0.dev0) (2.10)\n",
            "Requirement already satisfied: six in /usr/local/lib/python3.7/dist-packages (from sacremoses->transformers==4.7.0.dev0) (1.15.0)\n",
            "Requirement already satisfied: joblib in /usr/local/lib/python3.7/dist-packages (from sacremoses->transformers==4.7.0.dev0) (1.0.1)\n",
            "Requirement already satisfied: click in /usr/local/lib/python3.7/dist-packages (from sacremoses->transformers==4.7.0.dev0) (8.0.0)\n",
            "Requirement already satisfied: typing-extensions>=3.6.4; python_version < \"3.8\" in /usr/local/lib/python3.7/dist-packages (from importlib-metadata; python_version < \"3.8\"->transformers==4.7.0.dev0) (3.7.4.3)\n",
            "Requirement already satisfied: zipp>=0.5 in /usr/local/lib/python3.7/dist-packages (from importlib-metadata; python_version < \"3.8\"->transformers==4.7.0.dev0) (3.4.1)\n",
            "Building wheels for collected packages: transformers\n",
            "  Building wheel for transformers (PEP 517) ... \u001b[?25l\u001b[?25hdone\n",
            "  Created wheel for transformers: filename=transformers-4.7.0.dev0-cp37-none-any.whl size=2259809 sha256=f44269474e4b8288e205aa5823fb17e261ce8772cd3960f1218143f76289f62c\n",
            "  Stored in directory: /tmp/pip-ephem-wheel-cache-_7xr18xm/wheels/23/19/dd/2561a4e47240cf6b307729d58e56f8077dd0c698f5992216cf\n",
            "Successfully built transformers\n",
            "Installing collected packages: sacremoses, huggingface-hub, tokenizers, transformers\n",
            "Successfully installed huggingface-hub-0.0.8 sacremoses-0.0.45 tokenizers-0.10.2 transformers-4.7.0.dev0\n"
          ],
          "name": "stdout"
        }
      ]
    },
    {
      "cell_type": "code",
      "metadata": {
        "id": "aP1xQag1NXlQ"
      },
      "source": [
        "#from google.colab import drive"
      ],
      "execution_count": null,
      "outputs": []
    },
    {
      "cell_type": "code",
      "metadata": {
        "colab": {
          "base_uri": "https://localhost:8080/"
        },
        "id": "N8_0OwTNRsdR",
        "outputId": "2449b88e-c983-4cff-bc10-75ec4e741934"
      },
      "source": [
        "!bash run_experiments.sh"
      ],
      "execution_count": null,
      "outputs": [
        {
          "output_type": "stream",
          "text": [
            "05/16/2021 09:52:59 - INFO - __main__ -   Saving model checkpoint to experiments/epochs_3/checkpoint-2050\n",
            "\n",
            "Iteration:  10% 2050/20953 [12:12<3:06:16,  1.69it/s]\u001b[A\n",
            "Iteration:  10% 2051/20953 [12:13<2:40:21,  1.96it/s]\u001b[A\n",
            "Iteration:  10% 2052/20953 [12:13<2:23:26,  2.20it/s]\u001b[A\n",
            "Iteration:  10% 2053/20953 [12:13<2:13:06,  2.37it/s]\u001b[A\n",
            "Iteration:  10% 2054/20953 [12:14<2:05:58,  2.50it/s]\u001b[A\n",
            "Iteration:  10% 2055/20953 [12:14<2:00:49,  2.61it/s]\u001b[A\n",
            "Iteration:  10% 2056/20953 [12:14<1:57:32,  2.68it/s]\u001b[A\n",
            "Iteration:  10% 2057/20953 [12:15<1:55:18,  2.73it/s]\u001b[A\n",
            "Iteration:  10% 2058/20953 [12:15<1:52:49,  2.79it/s]\u001b[A\n",
            "Iteration:  10% 2059/20953 [12:15<1:51:34,  2.82it/s]\u001b[A\n",
            "Iteration:  10% 2060/20953 [12:16<1:50:39,  2.85it/s]\u001b[A\n",
            "Iteration:  10% 2061/20953 [12:16<1:49:46,  2.87it/s]\u001b[A\n",
            "Iteration:  10% 2062/20953 [12:16<1:49:31,  2.87it/s]\u001b[A\n",
            "Iteration:  10% 2063/20953 [12:17<1:48:58,  2.89it/s]\u001b[A\n",
            "Iteration:  10% 2064/20953 [12:17<1:48:53,  2.89it/s]\u001b[ATraceback (most recent call last):\n",
            "  File \"run_lm_finetuning.py\", line 556, in <module>\n",
            "    main()\n",
            "  File \"run_lm_finetuning.py\", line 508, in main\n",
            "    global_step, tr_loss = train(args, train_dataset, model, tokenizer)\n",
            "  File \"run_lm_finetuning.py\", line 253, in train\n",
            "    tr_loss += loss.item()\n",
            "KeyboardInterrupt\n",
            "\n",
            "Epoch:   0% 0/3 [12:18<?, ?it/s]\n",
            "Iteration:  10% 2064/20953 [12:18<1:52:36,  2.80it/s]\n",
            "^C\n"
          ],
          "name": "stdout"
        }
      ]
    },
    {
      "cell_type": "code",
      "metadata": {
        "id": "L93HdoXSb75J"
      },
      "source": [
        ""
      ],
      "execution_count": null,
      "outputs": []
    }
  ]
}