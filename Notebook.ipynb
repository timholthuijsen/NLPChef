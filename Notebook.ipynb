{
 "cells": [
  {
   "cell_type": "markdown",
   "metadata": {},
   "source": [
    "# Text Mining Group Project\n"
   ]
  },
  {
   "cell_type": "markdown",
   "metadata": {},
   "source": [
    "Alternative idea: maybe make model input a list of ingredients (based on what you have at home), and then let the model generate a reicpe for you based on the ingredients you have available\n",
    "\n",
    "if that is the route we take, we can alternatively make another function that generates random lists of ingredients, and then feed the random ingredients to the recipe maker based on ingredients"
   ]
  },
  {
   "cell_type": "markdown",
   "metadata": {},
   "source": [
    "### Imports"
   ]
  },
  {
   "cell_type": "code",
   "execution_count": 1,
   "metadata": {},
   "outputs": [],
   "source": [
    "import torch\n",
    "import pandas as pd\n",
    "from transformers import GPT2LMHeadModel, GPT2Tokenizer\n",
    "from transformers import AutoTokenizer, AutoModelForCausalLM\n",
    "import random"
   ]
  },
  {
   "cell_type": "markdown",
   "metadata": {},
   "source": [
    "# Initial model:\n",
    "When we started this project, we initially had a very different modeling approach from our final version. In order to showcase our thought process, we start this analysis off by creating our initial recipe generation model from the pretrained GPT-2 model.\n",
    "\n",
    "with some help from [TowardsDataScience](https://towardsdatascience.com/text-generation-with-python-and-gpt-2-1fecbff1635b)"
   ]
  },
  {
   "cell_type": "code",
   "execution_count": 48,
   "metadata": {},
   "outputs": [
    {
     "name": "stderr",
     "output_type": "stream",
     "text": [
      "Setting `pad_token_id` to `eos_token_id`:50256 for open-end generation.\n"
     ]
    }
   ],
   "source": [
    "#Defining the model and tokenizer\n",
    "tokenizer = GPT2Tokenizer.from_pretrained('gpt2')\n",
    "model = GPT2LMHeadModel.from_pretrained('gpt2')\n",
    "#Defining a context sequence\n",
    "sequence = 'Bake 5 eggs. Add them to the tomatoes. Boil the pasta.'\n",
    "#encoding input\n",
    "encoded = tokenizer.encode(sequence, return_tensors='pt')\n",
    "#Letting the model generate text based on the context\n",
    "output = model.generate(encoded, max_length=100, \n",
    "                        do_sample=True,\n",
    "                        temperature = 7.0,\n",
    "                        top_k=20)"
   ]
  },
  {
   "cell_type": "code",
   "execution_count": 51,
   "metadata": {},
   "outputs": [
    {
     "name": "stdout",
     "output_type": "stream",
     "text": [
      "Bake 5 eggs. Add them to the tomatoes. Boil the pasta. Put into a plastic plastic baking tric-ten (one-six). Cook till very paleo/dairy-sweet with milk fro thyst. Set aside for another 5-3 hours or until you add 2 tsp butter and a tablespoon salt and allow until the mixture begins a smooth dough, or add a tablespoon, 1 minute or more and you can just leave 1 to 3 tablespoons left on plate to set at\n"
     ]
    }
   ],
   "source": [
    "recipe = tokenizer.decode(output[0])\n",
    "print(recipe)"
   ]
  },
  {
   "cell_type": "markdown",
   "metadata": {},
   "source": [
    "GPT2's development can be found at: Radford, A., Wu, J., Child, R., Luan, D., Amodei, D., & Sutskever, I. (2018). Language Models are Unsupervised Multitask Learners. 24."
   ]
  },
  {
   "cell_type": "markdown",
   "metadata": {},
   "source": [
    "# Data Acquisition"
   ]
  },
  {
   "cell_type": "code",
   "execution_count": 2,
   "metadata": {},
   "outputs": [],
   "source": [
    "import json\n",
    "#https://eightportions.com/datasets/Recipes/#fn:1 where the data is from\n",
    "#scraped from \n",
    "#Foodnetwork.com, Epicurious.com, Allrecipes.com by Ryan Lee\n",
    "\n",
    "allr = open('recipes_raw_nosource_ar.json')\n",
    "epi = open('recipes_raw_nosource_epi.json')\n",
    "food = open('recipes_raw_nosource_fn.json')\n",
    "\n",
    "data1 = json.load(allr) #data 1 has a lot of the word ADVERTISEMENT\n",
    "data2 = json.load(epi) #data 2 looks good\n",
    "data3 = json.load(food) #this too\n",
    "\n",
    "#this load module loads the data into a dictionary \n"
   ]
  },
  {
   "cell_type": "code",
   "execution_count": 3,
   "metadata": {},
   "outputs": [
    {
     "name": "stdout",
     "output_type": "stream",
     "text": [
      "Grammie Hamblet's Deviled Crab\n"
     ]
    }
   ],
   "source": [
    "#Example of the double dict structue of the .json files:\n",
    "print(data3[\"p3pKOD6jIHEcjf20CCXohP8uqkG5dGi\"]['title'])"
   ]
  },
  {
   "cell_type": "markdown",
   "metadata": {},
   "source": [
    "# Data processing"
   ]
  },
  {
   "cell_type": "markdown",
   "metadata": {},
   "source": [
    "With some help from [coursera](https://www.coursera.org/projects/generating-new-recipes-python)\n",
    "\n",
    "Our current recipes are in a dict of list of dict form, where the first dict contains the recipe code as key and the recipe as value, and the recipe value itself is a list of dicts in the shape [{title: value}, {ingredients: value}, {instructions:value}]. This needs to be processed to be more workable\n",
    "\n",
    "\n",
    "We start by defining a list of all the recipe codes"
   ]
  },
  {
   "cell_type": "code",
   "execution_count": 4,
   "metadata": {},
   "outputs": [
    {
     "name": "stdout",
     "output_type": "stream",
     "text": [
      "The first dataset contains 39802 recipes\n",
      "in total, we have 125164 recipes\n"
     ]
    }
   ],
   "source": [
    "#creating lists of keys\n",
    "codes1 = list(data1.keys())\n",
    "codes2 = list(data2.keys())\n",
    "codes3 = list(data3.keys())\n",
    "\n",
    "#and doing some data exploration\n",
    "NumRecipes = len(codes1) + len(codes2) + len(codes3)\n",
    "print('The first dataset contains', len(codes1), 'recipes')\n",
    "print('in total, we have', NumRecipes, 'recipes')"
   ]
  },
  {
   "cell_type": "markdown",
   "metadata": {},
   "source": [
    "#### Creating Pandas dataframe\n",
    "The dict of lists of dicts format is rather annoying to work with for the modeling tasks we want to perform on it. Therefore, we convert everything nicely into our own pandas dataframe:"
   ]
  },
  {
   "cell_type": "code",
   "execution_count": 5,
   "metadata": {
    "scrolled": true
   },
   "outputs": [
    {
     "name": "stdout",
     "output_type": "stream",
     "text": [
      "All data has been added to the lists succesfully!\n"
     ]
    }
   ],
   "source": [
    "#Create dataframe\n",
    "Data = pd.DataFrame()\n",
    "\n",
    "#initializing empty lists which we'll add to the dataframe\n",
    "Title = []\n",
    "Ingredients = []\n",
    "Instructions = []\n",
    "\n",
    "#a for-loop to put all the required data in the lists\n",
    "datasets = [data1, data2, data3]\n",
    "\n",
    "for data in datasets:\n",
    "    for _, val in data.items():\n",
    "        #We occasionally get keyerrors due to corrupted data\n",
    "        #so a try-except is added\n",
    "        try:\n",
    "            Title.append(val['title'])\n",
    "            Ingredients.append([\n",
    "                #And we remove the random ADVERTISEMENT clutter\n",
    "                ingredient.replace(\n",
    "                'ADVERTISEMENT', '') for ingredient in val['ingredients']])\n",
    "            Instructions.append([str(\n",
    "                val['instructions']).replace('ADVERTISEMENT','').replace('\\n', ' ')])                      \n",
    "        except:\n",
    "            continue\n",
    "\n",
    "#Quick check to see if it worked\n",
    "if len(Title) == len(Ingredients) and len(Title) == len(Instructions):\n",
    "    print(\"All data has been added to the lists succesfully!\")"
   ]
  },
  {
   "cell_type": "code",
   "execution_count": 6,
   "metadata": {
    "scrolled": true
   },
   "outputs": [
    {
     "name": "stdout",
     "output_type": "stream",
     "text": [
      "During this transformation, 517 empty values have been removed\n",
      "We now have 124647 recipes\n"
     ]
    }
   ],
   "source": [
    "print(\"During this transformation,\", NumRecipes - len(Title), \"empty values have been removed\")\n",
    "print(\"We now have\", len(Title), \"recipes\")"
   ]
  },
  {
   "cell_type": "markdown",
   "metadata": {},
   "source": [
    "Earlier, we noticed that the first dataset contained a lot of random ADVERTISEMENT strings scattered around. This clutter has also been removed during the list comprehensions used above\n",
    "#### Adding data to dataframe\n",
    "We can now add all of the data we just created and finish up the dataframe"
   ]
  },
  {
   "cell_type": "code",
   "execution_count": 15,
   "metadata": {},
   "outputs": [
    {
     "data": {
      "text/html": [
       "<div>\n",
       "<style scoped>\n",
       "    .dataframe tbody tr th:only-of-type {\n",
       "        vertical-align: middle;\n",
       "    }\n",
       "\n",
       "    .dataframe tbody tr th {\n",
       "        vertical-align: top;\n",
       "    }\n",
       "\n",
       "    .dataframe thead th {\n",
       "        text-align: right;\n",
       "    }\n",
       "</style>\n",
       "<table border=\"1\" class=\"dataframe\">\n",
       "  <thead>\n",
       "    <tr style=\"text-align: right;\">\n",
       "      <th></th>\n",
       "      <th>Title</th>\n",
       "      <th>Ingredients</th>\n",
       "      <th>Instructions</th>\n",
       "    </tr>\n",
       "  </thead>\n",
       "  <tbody>\n",
       "    <tr>\n",
       "      <th>0</th>\n",
       "      <td>Slow Cooker Chicken and Dumplings</td>\n",
       "      <td>[4 skinless, boneless chicken breast halves , ...</td>\n",
       "      <td>[Place the chicken, butter, soup, and onion in...</td>\n",
       "    </tr>\n",
       "    <tr>\n",
       "      <th>1</th>\n",
       "      <td>Awesome Slow Cooker Pot Roast</td>\n",
       "      <td>[2 (10.75 ounce) cans condensed cream of mushr...</td>\n",
       "      <td>[In a slow cooker, mix cream of mushroom soup,...</td>\n",
       "    </tr>\n",
       "    <tr>\n",
       "      <th>2</th>\n",
       "      <td>Brown Sugar Meatloaf</td>\n",
       "      <td>[1/2 cup packed brown sugar , 1/2 cup ketchup ...</td>\n",
       "      <td>[Preheat oven to 350 degrees F (175 degrees C)...</td>\n",
       "    </tr>\n",
       "    <tr>\n",
       "      <th>3</th>\n",
       "      <td>Best Chocolate Chip Cookies</td>\n",
       "      <td>[1 cup butter, softened , 1 cup white sugar , ...</td>\n",
       "      <td>[Preheat oven to 350 degrees F (175 degrees C)...</td>\n",
       "    </tr>\n",
       "    <tr>\n",
       "      <th>4</th>\n",
       "      <td>Homemade Mac and Cheese Casserole</td>\n",
       "      <td>[8 ounces whole wheat rotini pasta , 3 cups fr...</td>\n",
       "      <td>[Preheat oven to 350 degrees F. Line a 2-quart...</td>\n",
       "    </tr>\n",
       "  </tbody>\n",
       "</table>\n",
       "</div>"
      ],
      "text/plain": [
       "                               Title  \\\n",
       "0  Slow Cooker Chicken and Dumplings   \n",
       "1      Awesome Slow Cooker Pot Roast   \n",
       "2               Brown Sugar Meatloaf   \n",
       "3        Best Chocolate Chip Cookies   \n",
       "4  Homemade Mac and Cheese Casserole   \n",
       "\n",
       "                                         Ingredients  \\\n",
       "0  [4 skinless, boneless chicken breast halves , ...   \n",
       "1  [2 (10.75 ounce) cans condensed cream of mushr...   \n",
       "2  [1/2 cup packed brown sugar , 1/2 cup ketchup ...   \n",
       "3  [1 cup butter, softened , 1 cup white sugar , ...   \n",
       "4  [8 ounces whole wheat rotini pasta , 3 cups fr...   \n",
       "\n",
       "                                        Instructions  \n",
       "0  [Place the chicken, butter, soup, and onion in...  \n",
       "1  [In a slow cooker, mix cream of mushroom soup,...  \n",
       "2  [Preheat oven to 350 degrees F (175 degrees C)...  \n",
       "3  [Preheat oven to 350 degrees F (175 degrees C)...  \n",
       "4  [Preheat oven to 350 degrees F. Line a 2-quart...  "
      ]
     },
     "execution_count": 15,
     "metadata": {},
     "output_type": "execute_result"
    }
   ],
   "source": [
    "Data['Title'] = Title\n",
    "Data['Ingredients'] = Ingredients\n",
    "Data['Instructions'] = Instructions\n",
    "Data[0:5]"
   ]
  },
  {
   "cell_type": "markdown",
   "metadata": {},
   "source": [
    "# Recipe Recognition\n",
    "With some help from: [TowardsDataScience](https://towardsdatascience.com/text-generation-with-python-and-gpt-2-1fecbff1635b), [StackExchange](https://datascience.stackexchange.com/questions/66394/how-does-bert-and-gpt-2-encoding-deal-with-token-such-as-startoftext-s), and [Coursera](https://www.coursera.org/projects/generating-new-recipes-python) and [TowardsDataScience2](https://towardsdatascience.com/train-gpt-2-in-your-own-language-fc6ad4d60171)"
   ]
  },
  {
   "cell_type": "markdown",
   "metadata": {},
   "source": [
    "Now that we have the data processed, we want to use the database's structure to train our GPT-2 model. Specifically, we want it to learn to recognize the following structure:\n",
    "\n",
    "Ingredients: <br/> ingredient1 <br/> ingredient2 <br/> ingredient3 <br/><br/>\n",
    "Instructions: <br/> some text explaining instructions\n",
    "\n",
    "### Train/Test split\n",
    "In order to train our model towards this structure, we first create a training and validation set. We take 10% of the data as a traing set, and 50% as test set. We use such a small percentage for training since otherwise the dataset is simply too large to for the model training, and this model already takes hours to train."
   ]
  },
  {
   "cell_type": "code",
   "execution_count": 16,
   "metadata": {},
   "outputs": [],
   "source": [
    "#Define GPT-2 special end of document token\n",
    "special_token = ' <|endoftext|> '\n",
    "\n",
    "#Create a dataframe column that combines ingredients and instructions\n",
    "Data['combined'] = ' \\n Ingredients: \\n ' + Data.Ingredients.str.join(' \\n ') + \\\n",
    "' \\n Instructions: \\n ' +Data.Instructions.str.join(' \\n ') + special_token"
   ]
  },
  {
   "cell_type": "code",
   "execution_count": 17,
   "metadata": {},
   "outputs": [],
   "source": [
    "length = len(Data['Title'])\n",
    "train = Data[:int(0.1*length)].combined.values\n",
    "test = Data[int(0.9*length):].combined.values"
   ]
  },
  {
   "cell_type": "code",
   "execution_count": 18,
   "metadata": {},
   "outputs": [
    {
     "data": {
      "text/plain": [
       "12464"
      ]
     },
     "execution_count": 18,
     "metadata": {},
     "output_type": "execute_result"
    }
   ],
   "source": [
    "len(train)"
   ]
  },
  {
   "cell_type": "markdown",
   "metadata": {},
   "source": [
    "And save them:"
   ]
  },
  {
   "cell_type": "code",
   "execution_count": 19,
   "metadata": {},
   "outputs": [],
   "source": [
    "#Write training and test data to a file\n",
    "with open('TrainingData.txt','w', encoding='utf-8') as f:\n",
    "    f.write('\\n'.join(train))\n",
    "with open('TestData.txt','w', encoding='utf-8') as f:\n",
    "    f.write('\\n'.join(test))"
   ]
  },
  {
   "cell_type": "markdown",
   "metadata": {},
   "source": [
    "## Training the model\n",
    "Now that we have the test and training datasets, we can train our model on this specific data. This task, however, is rather complicated: and cannot be performed solely in this notebook. Rather, we upload the TrainingData.txt to Google Colab. Then, we use the [run_lm_finetuning.py](https://github.com/alontalmor/pytorch-transformers/blob/master/examples/run_lm_finetuning.py) script from huggingface and define a bashscript run_experiments.sh to run it and to start training our model on the defined training data. run_lm_finetuning.py contains a number of errors, specifically with importing WarmupLinearSchedule from transformers. Therefore, we define our own WarmupLinearSchedule in the run_lm_finetuning.py, and use run_experiments.sh to train the custom model on our recently created training data. \n",
    "\n",
    "The trained model itself is unfortunately too large to upload to github, but the .sh and .py scripts used to train and create this custom model are attached with this assignment repository. 6 out of the 7 files of which our model consists do fit on github, and can be found in the /CustomModel directory. For the sake of inclusivity, our entire trained model is also available [here](https://1drv.ms/u/s!AlUeI82AcSLCo41KNfOUS5dTqT0tEQ?e=4Wyq21)"
   ]
  },
  {
   "cell_type": "code",
   "execution_count": 21,
   "metadata": {},
   "outputs": [],
   "source": [
    "#using the models trained on our dataset:\n",
    "tokenizer = AutoTokenizer.from_pretrained('CustomModel/')\n",
    "model = AutoModelForCausalLM.from_pretrained('CustomModel/')"
   ]
  },
  {
   "cell_type": "markdown",
   "metadata": {},
   "source": [
    "We now want to test whether our trained model recognizes the Ingredients: etc. Instructions: etc. format.\n",
    "Therefore, we define a testsequence consisting of a list of ingredients from the test set"
   ]
  },
  {
   "cell_type": "code",
   "execution_count": 38,
   "metadata": {},
   "outputs": [],
   "source": [
    "testsequence = test[100].split('Instructions')[0] + \" \\n Instructions:\""
   ]
  },
  {
   "cell_type": "code",
   "execution_count": 43,
   "metadata": {
    "scrolled": true
   },
   "outputs": [
    {
     "name": "stdout",
     "output_type": "stream",
     "text": [
      " \n",
      " Ingredients: \n",
      " 1/4 cup oil \n",
      " 6 medium onions, chopped \n",
      " 4 bell peppers, chopped \n",
      " 3 carrots, chopped \n",
      " 1 cup string beans, broken into pieces \n",
      " 3/4 cup peas \n",
      " 6 tomatoes, chopped \n",
      " 1/2 teaspoon black pepper \n",
      " 1 teaspoon dried thyme \n",
      " 4 cups medium grain brown rice, cooked (cold) \n",
      " 1/2 cup tomato paste \n",
      "  \n",
      " Instructions:\n"
     ]
    }
   ],
   "source": [
    "print(testsequence)"
   ]
  },
  {
   "cell_type": "markdown",
   "metadata": {},
   "source": [
    "This has the perfect format for our model to recognize"
   ]
  },
  {
   "cell_type": "code",
   "execution_count": 40,
   "metadata": {},
   "outputs": [
    {
     "name": "stderr",
     "output_type": "stream",
     "text": [
      "Setting `pad_token_id` to `eos_token_id`:50256 for open-end generation.\n"
     ]
    }
   ],
   "source": [
    "encoded = tokenizer.encode(testsequence, add_special_tokens = False,\n",
    "                           return_tensors='pt')\n",
    "\n",
    "modelgenerated = model.generate(input_ids = encoded, max_length = 700,\n",
    "                                temperature = 0.9,\n",
    "                                top_k = 20,\n",
    "                                do_sample = True,\n",
    "                               repetition_penalty = 1.0)"
   ]
  },
  {
   "cell_type": "code",
   "execution_count": 46,
   "metadata": {},
   "outputs": [],
   "source": [
    "#For more information on hyperparameters:\n",
    "model.generate?"
   ]
  },
  {
   "cell_type": "markdown",
   "metadata": {},
   "source": [
    "## And Success!\n",
    "The model recognizes the ingredient list format, and generates a recipe based on the available ingredients!"
   ]
  },
  {
   "cell_type": "code",
   "execution_count": 44,
   "metadata": {
    "scrolled": false
   },
   "outputs": [
    {
     "name": "stdout",
     "output_type": "stream",
     "text": [
      " \n",
      " Ingredients: \n",
      " 1/4 cup oil \n",
      " 6 medium onions, chopped \n",
      " 4 bell peppers, chopped \n",
      " 3 carrots, chopped \n",
      " 1 cup string beans, broken into pieces \n",
      " 3/4 cup peas \n",
      " 6 tomatoes, chopped \n",
      " 1/2 teaspoon black pepper \n",
      " 1 teaspoon dried thyme \n",
      " 4 cups medium grain brown rice, cooked (cold) \n",
      " 1/2 cup tomato paste \n",
      "  \n",
      " Instructions: \n",
      " Mix together the oil, oil, salt, and pepper in a large skillet over medium heat. Cook potatoes, then stir in the carrots and tomatoes, then bring to boil. Add beans and cook in the preheated oven until golden brown, about 5 minutes. Add beans, peas and peas. Cook until rice is tender and tender, about 3 minutes. Add tomatoes and stir in thyme, then add beans, peas, peas, and peas. Serve cold. Heat oil in a Dutch oven and cook potatoes through until golden brown. Place in a medium saucepan. Cook potatoes and carrots in the saucepan until softened, about 4 minutes. Add beans and bring to a boil. Remove from the heat, remove from the heat, and simmer until beans are tender, about 1 hour. Remove from the heat and set aside. Pour water directly into the boiling water using a spoon. Heat the potatoes in a preheated oven and set aside. Place the potatoes and carrots in the saucepan. Bake for 12 minutes or until potatoes are tender and brown on both sides, about 8 minutes each side. <|endoftext|>\n"
     ]
    }
   ],
   "source": [
    "for sequence in modelgenerated:\n",
    "    recipe = tokenizer.decode(sequence)\n",
    "    print(recipe)"
   ]
  },
  {
   "cell_type": "markdown",
   "metadata": {},
   "source": [
    "### Now, we want to create more recipes from our unused, test ingredient lists:"
   ]
  },
  {
   "cell_type": "code",
   "execution_count": 67,
   "metadata": {},
   "outputs": [
    {
     "name": "stderr",
     "output_type": "stream",
     "text": [
      "Setting `pad_token_id` to `eos_token_id`:50256 for open-end generation.\n",
      "Setting `pad_token_id` to `eos_token_id`:50256 for open-end generation.\n",
      "Setting `pad_token_id` to `eos_token_id`:50256 for open-end generation.\n",
      "Setting `pad_token_id` to `eos_token_id`:50256 for open-end generation.\n",
      "Setting `pad_token_id` to `eos_token_id`:50256 for open-end generation.\n",
      "Setting `pad_token_id` to `eos_token_id`:50256 for open-end generation.\n",
      "Setting `pad_token_id` to `eos_token_id`:50256 for open-end generation.\n",
      "Setting `pad_token_id` to `eos_token_id`:50256 for open-end generation.\n",
      "Setting `pad_token_id` to `eos_token_id`:50256 for open-end generation.\n",
      "Setting `pad_token_id` to `eos_token_id`:50256 for open-end generation.\n"
     ]
    }
   ],
   "source": [
    "#Generate recipes based on ingredients list and add them to a string\n",
    "AllRecipes = ''\n",
    "for i in range(10):\n",
    "    sequence = test[i].split('Instructions')[0] + \" \\n Instructions:\"\n",
    "    encoded = tokenizer.encode(testsequence, add_special_tokens = False,\n",
    "                           return_tensors='pt')\n",
    "\n",
    "    modelgenerated = model.generate(input_ids = encoded, max_length = 700,\n",
    "                                temperature = 0.9,\n",
    "                                top_k = 20,\n",
    "                                do_sample = True,\n",
    "                               repetition_penalty = 1.0)\n",
    "    for recipe in modelgenerated:\n",
    "        text = tokenizer.decode(recipe)\n",
    "        AllRecipes = AllRecipes + text\n",
    "    "
   ]
  },
  {
   "cell_type": "markdown",
   "metadata": {},
   "source": [
    "## Saving Recipes\n",
    "And finally, we save all of the created recipes in a .txt file"
   ]
  },
  {
   "cell_type": "code",
   "execution_count": 68,
   "metadata": {},
   "outputs": [],
   "source": [
    "#Defining a function to save generated recipes as .txt files:\n",
    "def save(recipe, filename):\n",
    "    text_file = open(filename, \"w\", encoding = 'utf8')\n",
    "    n = text_file.write(recipe)\n",
    "    text_file.close()"
   ]
  },
  {
   "cell_type": "code",
   "execution_count": 69,
   "metadata": {},
   "outputs": [],
   "source": [
    "save(AllRecipes, 'Recipes/AllRecipes.txt')"
   ]
  },
  {
   "cell_type": "code",
   "execution_count": 59,
   "metadata": {},
   "outputs": [
    {
     "name": "stdout",
     "output_type": "stream",
     "text": [
      " \n",
      " Ingredients: \n",
      " 1/4 cup oil \n",
      " 6 medium onions, chopped \n",
      " 4 bell peppers, chopped \n",
      " 3 carrots, chopped \n",
      " 1 cup string beans, broken into pieces \n",
      " 3/4 cup peas \n",
      " 6 tomatoes, chopped \n",
      " 1/2 teaspoon black pepper \n",
      " 1 teaspoon dried thyme \n",
      " 4 cups medium grain brown rice, cooked (cold) \n",
      " 1/2 cup tomato paste \n",
      "  \n",
      " Instructions:   Cut 2 large onions, in half lengthwise and place them on a baking sheet.   Cover with a plastic baking sheet.   Let sit 30 minutes.   Set aside.   In a bowl, toss in the onion mixture.   Add the rice and cook gently.   Remove from heat, and then place rice on a lightly oiled baking sheet.   Bake at 425 degrees for 10 minutes, or until the top is golden brown.  Remove from heat, and then place on serving platter.\n",
      "To serve, garnish the cooked rice with chopped parsley and chopped coriander.\n",
      "You can serve this appetizer on it's own or with other rice.\n",
      "Enjoy!\n",
      "Print Author: Baked Rice Salad Print Recipe Prep Time 20 mins Cook Time 20 mins Total Time 24 mins Author: Baked Rice Salad Print Recipe Print Recipe Ingredients 1/2 cup oil\n",
      "\n",
      "1 1/4 cup onions, chopped \n",
      "\n",
      "6 medium onions, chopped \n",
      "\n",
      "1/4 cup bell peppers, chopped \n",
      "\n",
      "3 bay leaves, minced\n",
      "\n",
      "2 cups rice noodles \n",
      "\n",
      "1 teaspoon dried thyme, finely chopped Instructions: 1. Preheat your oven to 375 degrees.\n",
      "\n",
      "2. In a bowl, mix all of the soy sauce ingredients together.\n",
      "\n",
      "3. Add the beef.\n",
      "\n",
      "4. Add the diced bell peppers and saute for about 3 minutes, or until the bell peppers begin to turn golden brown.\n",
      "\n",
      "5. Cook for another 3 minutes or until the bell peppers have softened (about 20 minutes).\n",
      "\n",
      "6. Add the chopped tomatoes and saute for another 2 minutes or until the tomatoes are soft, or about 30 minutes more.\n",
      "\n",
      "7. Add the rice, and saute for 3 minutes or until the rice has softened (about 3 minutes).\n",
      "\n",
      "8. Add the tomatoes and saute for another 2 minutes or until the tomatoes have softened (about 3 minutes). Add the beans and saute for another 2 minutes or until the beans have softened (about 3 minutes).\n",
      "\n",
      "9. Add the noodles and saute for another 2 minutes or until the noodles have softened (about 3 minutes).\n",
      "\n",
      "10. Add the coriander, and place in a large bowl.\n",
      "\n",
      "11. Add the chopped parsley and saute for another 2 minutes or until the parsley has softened (about 3 minutes). Add the rice and saute for another 2 minutes or until the rice has softened (about 2 minutes).\n",
      "\n",
      "12. Add the coriander and saute for another 2 minutes or until the coriander have softened (about 2 minutes). Add the beans and saute.\n",
      "\n",
      "13. Add the beans and saute for another 2 minutes or until the beans have softened (about 3 minutes). Add the rice and saute for another 2 minutes or until the rice has softened (about 2 minutes).\n",
      "\n",
      "14. Add the marinate rice.\n",
      "\n",
      "15 \n",
      " Ingredients: \n",
      " 1/4 cup oil \n",
      " 6 medium onions, chopped \n",
      " 4 bell peppers, chopped \n",
      " 3 carrots, chopped \n",
      " 1 cup string beans, broken into pieces \n",
      " 3/4 cup peas \n",
      " 6 tomatoes, chopped \n",
      " 1/2 teaspoon black pepper \n",
      " 1 teaspoon dried thyme \n",
      " 4 cups medium grain brown rice, cooked (cold) \n",
      " 1/2 cup tomato paste \n",
      "  \n",
      " Instructions: \n",
      " 1. Wash and trim the onion and peppers. Cut the whole thing into chunks, and place the rest of the cooked veggies on the bottom. \n",
      "\n",
      "2. Place the bell peppers on top of the veggies. Place the peppers in the bowl with the onions and peppers, stirring well. \n",
      "\n",
      "3. Cook the carrots and peas for 10 minutes or until they become light and translucent. Remove the broccoli, cut back the stems and discard the green bits.\n",
      "\n",
      "4. Add the tomato paste, black pepper, thyme and dried thyme. Bring the rice to a boil and add the remaining vegetables.\n",
      "\n",
      "5. Saute for 4 more minutes to remove all the water from the veggies. \n",
      "\n",
      "6. Add the rice, tomato paste and salt to the rice, and simmer for 5 minutes. Serve.\n",
      "\n",
      "Enjoy!\n",
      "\n",
      "Advertisements<|endoftext|> \n",
      " Ingredients: \n",
      " 1/4 cup oil \n",
      " 6 medium onions, chopped \n",
      " 4 bell peppers, chopped \n",
      " 3 carrots, chopped \n",
      " 1 cup string beans, broken into pieces \n",
      " 3/4 cup peas \n",
      " 6 tomatoes, chopped \n",
      " 1/2 teaspoon black pepper \n",
      " 1 teaspoon dried thyme \n",
      " 4 cups medium grain brown rice, cooked (cold) \n",
      " 1/2 cup tomato paste \n",
      "  \n",
      " Instructions: \n",
      "In a medium skillet over medium heat, melt the onion and bell peppers. Add the onions and peppers, stirring frequently as they cook, and cook until the peppers start to soften. If the peppers are still translucent, then remove them from the heat, and then add more milk. Cook in medium heat for 3 to 4 minutes. Add the garlic and saute until fragrant, about 2 minutes. Add the tomatoes and cook for another half an hour. Add the beans, and cook for another half an hour. Stir until you can see the tomatoes. Add the peas, and cook for another half an hour. Stir again and continue cooking until the peas start to soften. Add the water and stir to combine. Add the tomatoes, and heat until well stirred. Add the remaining ingredients for the soup. Stir for a minute, stirring constantly. Remove the lid, and place in a plastic bag. The bag can be filled with the remaining ingredients, or you can just remove it.\n",
      "The finished soup can be sent to a freezer at least 2 weeks in advance (I don't recommend this, since it will break down easily, though I know I should, and I didn't, so I will probably keep it as an appetizer. Or you can freeze it and store in a bag and serve it as a snack.)<|endoftext|> \n",
      " Ingredients: \n",
      " 1/4 cup oil \n",
      " 6 medium onions, chopped \n",
      " 4 bell peppers, chopped \n",
      " 3 carrots, chopped \n",
      " 1 cup string beans, broken into pieces \n",
      " 3/4 cup peas \n",
      " 6 tomatoes, chopped \n",
      " 1/2 teaspoon black pepper \n",
      " 1 teaspoon dried thyme \n",
      " 4 cups medium grain brown rice, cooked (cold) \n",
      " 1/2 cup tomato paste \n",
      "  \n",
      " Instructions: \n",
      "1. Boil oil        . Cook onions for 4 minutes or until tender. \n",
      "2. Set aside, add tomatoes and beans, then chop. \n",
      "3. Add onion and carrot mix and cook for another 5-10 minutes or until smooth. \n",
      "4. Add salt and pepper          \n",
      "5. Add peas                  \n",
      "6. Add black pepper and let stand for an additional 5 minutes or until brown. \n",
      "7. Add tomatoes and cornmeal mix and stir well.\n",
      "8. Add beans and cook for another 5 min or until cooked through. \n",
      "9. Place into oven or grill until tender. Stir in peas, carrots and thyme mixture.\n",
      "10. Serve hot and with a side of tortilla chips.<|endoftext|> \n",
      " Ingredients: \n",
      " 1/4 cup oil \n",
      " 6 medium onions, chopped \n",
      " 4 bell peppers, chopped \n",
      " 3 carrots, chopped \n",
      " 1 cup string beans, broken into pieces \n",
      " 3/4 cup peas \n",
      " 6 tomatoes, chopped \n",
      " 1/2 teaspoon black pepper \n",
      " 1 teaspoon dried thyme \n",
      " 4 cups medium grain brown rice, cooked (cold) \n",
      " 1/2 cup tomato paste \n",
      "  \n",
      " Instructions: \n",
      " In a medium-sized bowl, combine the onion, onion, bell peppers, bell peppers, and garlic in a small bowl. Set aside. Add the flour, salt, and pepper in a large bowl and bring to a boil. Reduce the heat to medium, and simmer the corn and rice overnight.  Add the onions and cook until the onions turn translucent, 3-4 minutes. Remove from the heat, cover the heat, and let simmer on medium power.  Add the tomato paste and stir until combined and well combined. Add the beans and stir for two minutes.  Remove the cups of water from the pot, cover, and allow the mixture to cool to room temperature. \n",
      "Serve immediately. Nutrition Facts Gluten-Free Corn Casserole Recipe »\n",
      "Posted in gluten-free recipes<|endoftext|>\n"
     ]
    }
   ],
   "source": [
    "print(AllRecipes)"
   ]
  },
  {
   "cell_type": "markdown",
   "metadata": {},
   "source": [
    "Contributors: Emilia, Sergio, Tim"
   ]
  }
 ],
 "metadata": {
  "kernelspec": {
   "display_name": "Python 3",
   "language": "python",
   "name": "python3"
  },
  "language_info": {
   "codemirror_mode": {
    "name": "ipython",
    "version": 3
   },
   "file_extension": ".py",
   "mimetype": "text/x-python",
   "name": "python",
   "nbconvert_exporter": "python",
   "pygments_lexer": "ipython3",
   "version": "3.7.6"
  }
 },
 "nbformat": 4,
 "nbformat_minor": 4
}
