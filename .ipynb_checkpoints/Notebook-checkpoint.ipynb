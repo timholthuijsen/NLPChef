{
 "cells": [
  {
   "cell_type": "markdown",
   "metadata": {},
   "source": [
    "# Text Mining Group Project\n"
   ]
  },
  {
   "cell_type": "markdown",
   "metadata": {},
   "source": [
    "Everyone knows that feeling when you are sitting hungry at home, while having no idea what you want to eat. Well, no more! Rather than staring uninspired at the item in your fridge, our NLPChef will help you decide what to do with them! Not only can this model generate original, realistic, and fun recipes, it can do so based on a list of ingredients you have available. Simply tell the model what you have in your fridge, and it will generate a recipe based on what you have available. Or if you don't feel like giving the model inputs yourself, some example recipes (with corresponding ingredient list) can be found in the AllRecipes.txt file\n",
    "\n",
    "This Text Mining project represents a unique approach to both NLP and Cooking; by Sergio Kazatzidis, Emilia Chammas, and Tim Holthuijsen"
   ]
  },
  {
   "cell_type": "markdown",
   "metadata": {},
   "source": [
    "### Imports"
   ]
  },
  {
   "cell_type": "code",
   "execution_count": 1,
   "metadata": {},
   "outputs": [],
   "source": [
    "import torch\n",
    "import random\n",
    "import json\n",
    "import pandas as pd\n",
    "from transformers import GPT2LMHeadModel, GPT2Tokenizer\n",
    "from transformers import AutoTokenizer, AutoModelForCausalLM"
   ]
  },
  {
   "cell_type": "markdown",
   "metadata": {},
   "source": [
    "# Initial model:\n",
    "When we started with this project, we had a very different modeling approach from our final version. In order to showcase our thought process, we start this analysis off by creating our initial recipe generation model from the pretrained GPT-2 model.\n",
    "\n",
    "with some help from [TowardsDataScience](https://towardsdatascience.com/text-generation-with-python-and-gpt-2-1fecbff1635b)"
   ]
  },
  {
   "cell_type": "code",
   "execution_count": 2,
   "metadata": {},
   "outputs": [
    {
     "name": "stderr",
     "output_type": "stream",
     "text": [
      "Setting `pad_token_id` to `eos_token_id`:50256 for open-end generation.\n"
     ]
    }
   ],
   "source": [
    "#Defining the model and tokenizer\n",
    "tokenizer = GPT2Tokenizer.from_pretrained('gpt2')\n",
    "model = GPT2LMHeadModel.from_pretrained('gpt2')\n",
    "#Defining a context sequence\n",
    "sequence = 'Bake 5 eggs. Add them to the tomatoes. Boil the pasta.'\n",
    "#encoding input\n",
    "encoded = tokenizer.encode(sequence, return_tensors='pt')\n",
    "#Letting the model generate text based on the context\n",
    "output = model.generate(encoded, max_length=100, \n",
    "                        do_sample=True,\n",
    "                        temperature = 7.0,\n",
    "                        top_k=20)"
   ]
  },
  {
   "cell_type": "markdown",
   "metadata": {},
   "source": [
    "The idea of this GPT-2 recipe generation is that by providing a sequence context string based on food and cooking, the language model will also generate a text related to this, which is often very close to a recipe. More sophisticated (and longer) iterations of this model have yielded relatively succesful recipes, one of which is saved in the /Recipes folder. \n",
    "\n",
    "GPT2's development can be found at: Radford, A., Wu, J., Child, R., Luan, D., Amodei, D., & Sutskever, I. (2018). Language Models are Unsupervised Multitask Learners. 24."
   ]
  },
  {
   "cell_type": "code",
   "execution_count": 3,
   "metadata": {},
   "outputs": [
    {
     "name": "stdout",
     "output_type": "stream",
     "text": [
      "Bake 5 eggs. Add them to the tomatoes. Boil the pasta. Cover and drain and add them in to another small serving.\n",
      "If the dough turns to greasy at the beginning. Then just knead all that liquid off so there will now remain some surface in the pasta dough for its purpose to continue folding (about half) when the bread hits the edge where that's it from where? Do I get the \"granny pin pie\"…?<|endoftext|>\n"
     ]
    }
   ],
   "source": [
    "recipe = tokenizer.decode(output[0])\n",
    "print(recipe)"
   ]
  },
  {
   "cell_type": "markdown",
   "metadata": {},
   "source": [
    "While this already provides relatively skillful recipes, they are not as skillful and customizable as we want. Specifically, we want to be able to train and customize our model based on a specific dataset. This gives more control in creating the model, and means that our cooking model will be trained on cooking data specifically, rather than GPT-2's more general background. It also means we can train our model in a way that it can take in a list of ingredients, and output a recipe based on those ingredients. Using our own data to train the model has the additional advantage that you can use Italian recipes to train your Italian NLP cooking book, and French recipes for your French cookbook. \n",
    "\n",
    "In order to start defining and training our own model, we first acquire a large amount of cooking data: 125164 recipes from [eightportions.com](https://eightportions.com/datasets/Recipes/#fn:1), by Ryan Lee"
   ]
  },
  {
   "cell_type": "markdown",
   "metadata": {},
   "source": [
    "# Data Acquisition"
   ]
  },
  {
   "cell_type": "code",
   "execution_count": 4,
   "metadata": {},
   "outputs": [],
   "source": [
    "allr = open('recipes_raw_nosource_ar.json')\n",
    "epi = open('recipes_raw_nosource_epi.json')\n",
    "food = open('recipes_raw_nosource_fn.json')\n",
    "\n",
    "data1 = json.load(allr) #data 1 has a lot of the word ADVERTISEMENT\n",
    "data2 = json.load(epi) #data 2 looks good\n",
    "data3 = json.load(food) #this too\n",
    "\n",
    "#this load module loads the data into a dictionary "
   ]
  },
  {
   "cell_type": "code",
   "execution_count": 5,
   "metadata": {},
   "outputs": [
    {
     "name": "stdout",
     "output_type": "stream",
     "text": [
      "Grammie Hamblet's Deviled Crab\n"
     ]
    }
   ],
   "source": [
    "#Example of the double dict structue of the .json files:\n",
    "print(data3[\"p3pKOD6jIHEcjf20CCXohP8uqkG5dGi\"]['title'])"
   ]
  },
  {
   "cell_type": "markdown",
   "metadata": {},
   "source": [
    "# Data processing"
   ]
  },
  {
   "cell_type": "markdown",
   "metadata": {},
   "source": [
    "With some help from [coursera](https://www.coursera.org/projects/generating-new-recipes-python)\n",
    "\n",
    "Our current recipes are in a dict of list of dict form, where the first dict contains the recipe code as key and the recipe as value, and the recipe value itself is a list of dicts in the shape [{title: value}, {ingredients: value}, {instructions:value}]. This is very annoying, and needs to be processed into a more workable format\n",
    "\n",
    "\n",
    "We start by defining a list of all the recipe codes"
   ]
  },
  {
   "cell_type": "code",
   "execution_count": 6,
   "metadata": {},
   "outputs": [
    {
     "name": "stdout",
     "output_type": "stream",
     "text": [
      "The first dataset contains 39802 recipes\n",
      "in total, we have 125164 recipes\n"
     ]
    }
   ],
   "source": [
    "#creating lists of keys\n",
    "codes1 = list(data1.keys())\n",
    "codes2 = list(data2.keys())\n",
    "codes3 = list(data3.keys())\n",
    "\n",
    "#and doing some data exploration\n",
    "NumRecipes = len(codes1) + len(codes2) + len(codes3)\n",
    "print('The first dataset contains', len(codes1), 'recipes')\n",
    "print('in total, we have', NumRecipes, 'recipes')"
   ]
  },
  {
   "cell_type": "markdown",
   "metadata": {},
   "source": [
    "#### Creating Pandas dataframe\n",
    "The dict of lists of dicts format is suboptimal to work with for the modeling tasks we want to perform on it. Therefore, we convert everything nicely into our own pandas dataframe:"
   ]
  },
  {
   "cell_type": "code",
   "execution_count": 7,
   "metadata": {
    "scrolled": true
   },
   "outputs": [
    {
     "name": "stdout",
     "output_type": "stream",
     "text": [
      "All data has been added to the lists succesfully!\n"
     ]
    }
   ],
   "source": [
    "#Create dataframe\n",
    "Data = pd.DataFrame()\n",
    "\n",
    "#initializing empty lists which we'll add to the dataframe\n",
    "Title = []\n",
    "Ingredients = []\n",
    "Instructions = []\n",
    "\n",
    "#a for-loop to put all the required data in the lists\n",
    "datasets = [data1, data2, data3]\n",
    "\n",
    "for data in datasets:\n",
    "    for _, val in data.items():\n",
    "        #We occasionally get keyerrors due to corrupted data\n",
    "        #so a try-except is added\n",
    "        try:\n",
    "            Title.append(val['title'])\n",
    "            Ingredients.append([\n",
    "                #And we remove the random ADVERTISEMENT clutter\n",
    "                ingredient.replace(\n",
    "                'ADVERTISEMENT', '') for ingredient in val['ingredients']])\n",
    "            Instructions.append([str(\n",
    "                val['instructions']).replace('ADVERTISEMENT','').replace('\\n', ' ')])                      \n",
    "        except:\n",
    "            continue\n",
    "\n",
    "#Quick check to see if it worked\n",
    "if len(Title) == len(Ingredients) and len(Title) == len(Instructions):\n",
    "    print(\"All data has been added to the lists succesfully!\")"
   ]
  },
  {
   "cell_type": "code",
   "execution_count": 8,
   "metadata": {
    "scrolled": true
   },
   "outputs": [
    {
     "name": "stdout",
     "output_type": "stream",
     "text": [
      "During this transformation, 517 empty values have been removed\n",
      "We now have 124647 recipes\n"
     ]
    }
   ],
   "source": [
    "print(\"During this transformation,\", NumRecipes - len(Title), \"empty values have been removed\")\n",
    "print(\"We now have\", len(Title), \"recipes\")"
   ]
  },
  {
   "cell_type": "markdown",
   "metadata": {},
   "source": [
    "Earlier, we noticed that the first dataset contained a lot of random ADVERTISEMENT strings scattered around. This clutter has also been removed during the list comprehensions used above\n",
    "#### Adding data to dataframe\n",
    "We can now add all of the data we just created and finish up the dataframe"
   ]
  },
  {
   "cell_type": "code",
   "execution_count": 9,
   "metadata": {
    "scrolled": true
   },
   "outputs": [
    {
     "data": {
      "text/html": [
       "<div>\n",
       "<style scoped>\n",
       "    .dataframe tbody tr th:only-of-type {\n",
       "        vertical-align: middle;\n",
       "    }\n",
       "\n",
       "    .dataframe tbody tr th {\n",
       "        vertical-align: top;\n",
       "    }\n",
       "\n",
       "    .dataframe thead th {\n",
       "        text-align: right;\n",
       "    }\n",
       "</style>\n",
       "<table border=\"1\" class=\"dataframe\">\n",
       "  <thead>\n",
       "    <tr style=\"text-align: right;\">\n",
       "      <th></th>\n",
       "      <th>Title</th>\n",
       "      <th>Ingredients</th>\n",
       "      <th>Instructions</th>\n",
       "    </tr>\n",
       "  </thead>\n",
       "  <tbody>\n",
       "    <tr>\n",
       "      <th>0</th>\n",
       "      <td>Slow Cooker Chicken and Dumplings</td>\n",
       "      <td>[4 skinless, boneless chicken breast halves , ...</td>\n",
       "      <td>[Place the chicken, butter, soup, and onion in...</td>\n",
       "    </tr>\n",
       "    <tr>\n",
       "      <th>1</th>\n",
       "      <td>Awesome Slow Cooker Pot Roast</td>\n",
       "      <td>[2 (10.75 ounce) cans condensed cream of mushr...</td>\n",
       "      <td>[In a slow cooker, mix cream of mushroom soup,...</td>\n",
       "    </tr>\n",
       "    <tr>\n",
       "      <th>2</th>\n",
       "      <td>Brown Sugar Meatloaf</td>\n",
       "      <td>[1/2 cup packed brown sugar , 1/2 cup ketchup ...</td>\n",
       "      <td>[Preheat oven to 350 degrees F (175 degrees C)...</td>\n",
       "    </tr>\n",
       "    <tr>\n",
       "      <th>3</th>\n",
       "      <td>Best Chocolate Chip Cookies</td>\n",
       "      <td>[1 cup butter, softened , 1 cup white sugar , ...</td>\n",
       "      <td>[Preheat oven to 350 degrees F (175 degrees C)...</td>\n",
       "    </tr>\n",
       "    <tr>\n",
       "      <th>4</th>\n",
       "      <td>Homemade Mac and Cheese Casserole</td>\n",
       "      <td>[8 ounces whole wheat rotini pasta , 3 cups fr...</td>\n",
       "      <td>[Preheat oven to 350 degrees F. Line a 2-quart...</td>\n",
       "    </tr>\n",
       "  </tbody>\n",
       "</table>\n",
       "</div>"
      ],
      "text/plain": [
       "                               Title  \\\n",
       "0  Slow Cooker Chicken and Dumplings   \n",
       "1      Awesome Slow Cooker Pot Roast   \n",
       "2               Brown Sugar Meatloaf   \n",
       "3        Best Chocolate Chip Cookies   \n",
       "4  Homemade Mac and Cheese Casserole   \n",
       "\n",
       "                                         Ingredients  \\\n",
       "0  [4 skinless, boneless chicken breast halves , ...   \n",
       "1  [2 (10.75 ounce) cans condensed cream of mushr...   \n",
       "2  [1/2 cup packed brown sugar , 1/2 cup ketchup ...   \n",
       "3  [1 cup butter, softened , 1 cup white sugar , ...   \n",
       "4  [8 ounces whole wheat rotini pasta , 3 cups fr...   \n",
       "\n",
       "                                        Instructions  \n",
       "0  [Place the chicken, butter, soup, and onion in...  \n",
       "1  [In a slow cooker, mix cream of mushroom soup,...  \n",
       "2  [Preheat oven to 350 degrees F (175 degrees C)...  \n",
       "3  [Preheat oven to 350 degrees F (175 degrees C)...  \n",
       "4  [Preheat oven to 350 degrees F. Line a 2-quart...  "
      ]
     },
     "execution_count": 9,
     "metadata": {},
     "output_type": "execute_result"
    }
   ],
   "source": [
    "Data['Title'] = Title\n",
    "Data['Ingredients'] = Ingredients\n",
    "Data['Instructions'] = Instructions\n",
    "Data[0:5]"
   ]
  },
  {
   "cell_type": "markdown",
   "metadata": {},
   "source": [
    "#### Summary statistics"
   ]
  },
  {
   "cell_type": "code",
   "execution_count": 10,
   "metadata": {},
   "outputs": [
    {
     "name": "stdout",
     "output_type": "stream",
     "text": [
      "The dataset contains:  124647 values\n",
      "Mean Title Length is: 28.285253556042264 characters\n",
      "Mean Ingredient Length is: 10.565436793504858 ingredients\n",
      "Mean Instruction Length is: 989.6764944202428 characters\n"
     ]
    }
   ],
   "source": [
    "TitleLength = 0\n",
    "IngredientLength = 0\n",
    "InstructionLength = 0\n",
    "print(\"The dataset contains: \", len(Data), \"values\")\n",
    "for item in Data['Title']:\n",
    "    try:\n",
    "        TitleLength += len(item)\n",
    "    except:\n",
    "        continue\n",
    "for item in Data['Ingredients']:\n",
    "    IngredientLength += len(item)\n",
    "for item in Data['Instructions']:\n",
    "    InstructionLength += len(str(item)) - 2 \n",
    "print(\"Mean Title Length is:\", TitleLength/len(Data), \"characters\")\n",
    "print(\"Mean Ingredient Length is:\", IngredientLength/len(Data), \"ingredients\")\n",
    "print(\"Mean Instruction Length is:\", InstructionLength/len(Data), \"characters\")"
   ]
  },
  {
   "cell_type": "markdown",
   "metadata": {},
   "source": [
    "# Recipe Recognition\n",
    "With some help from: [TowardsDataScience](https://towardsdatascience.com/text-generation-with-python-and-gpt-2-1fecbff1635b), [StackExchange](https://datascience.stackexchange.com/questions/66394/how-does-bert-and-gpt-2-encoding-deal-with-token-such-as-startoftext-s), [Coursera](https://www.coursera.org/projects/generating-new-recipes-python) and [TowardsDataScience2](https://towardsdatascience.com/train-gpt-2-in-your-own-language-fc6ad4d60171)"
   ]
  },
  {
   "cell_type": "markdown",
   "metadata": {},
   "source": [
    "Now that we have the data processed, we want to use the database's structure to train our own. Specifically, we want it to learn to recognize the following recipe structure:\n",
    "\n",
    "Ingredients: <br/> ingredient1 <br/> ingredient2 <br/> ingredient3 <br/><br/>\n",
    "Instructions: <br/> some text explaining instructions\n",
    "\n",
    "### Train/Test split\n",
    "In order to train our model towards this structure, we first create a training and validation set. We take 10% of the data as a traing set, and 50% as test set. We use such a small percentage for training since otherwise the dataset is simply too large to handle for the model training; and this model already takes hours to train."
   ]
  },
  {
   "cell_type": "code",
   "execution_count": 11,
   "metadata": {},
   "outputs": [],
   "source": [
    "#Define GPT-2 special end of document token\n",
    "special_token = ' <|endoftext|> '\n",
    "\n",
    "#Create a dataframe column that combines ingredients and instructions\n",
    "Data['combined'] = ' \\n Ingredients: \\n ' + Data.Ingredients.str.join(' \\n ') + \\\n",
    "' \\n Instructions: \\n ' +Data.Instructions.str.join(' \\n ') + special_token"
   ]
  },
  {
   "cell_type": "code",
   "execution_count": 12,
   "metadata": {},
   "outputs": [],
   "source": [
    "length = len(Data['Title'])\n",
    "train = Data[:int(0.1*length)].combined.values\n",
    "test = Data[int(0.9*length):].combined.values"
   ]
  },
  {
   "cell_type": "code",
   "execution_count": 13,
   "metadata": {},
   "outputs": [
    {
     "data": {
      "text/plain": [
       "12464"
      ]
     },
     "execution_count": 13,
     "metadata": {},
     "output_type": "execute_result"
    }
   ],
   "source": [
    "len(train)"
   ]
  },
  {
   "cell_type": "markdown",
   "metadata": {},
   "source": [
    "And save them:"
   ]
  },
  {
   "cell_type": "code",
   "execution_count": 14,
   "metadata": {},
   "outputs": [],
   "source": [
    "#Write training and test data to a file\n",
    "with open('TrainingData.txt','w', encoding='utf-8') as f:\n",
    "    f.write('\\n'.join(train))\n",
    "with open('TestData.txt','w', encoding='utf-8') as f:\n",
    "    f.write('\\n'.join(test))"
   ]
  },
  {
   "cell_type": "markdown",
   "metadata": {},
   "source": [
    "## Training the model\n",
    "Now that we have the test and training datasets, we can train our model on this specific data. This task, however, is rather complicated: and cannot be performed solely in this notebook. Rather, we upload the TrainingData.txt to Google Colab. Then, we use the [run_lm_finetuning.py](https://github.com/alontalmor/pytorch-transformers/blob/master/examples/run_lm_finetuning.py) script from huggingface and define a bashscript run_experiments.sh to run it and to start training our model on the defined training data. run_lm_finetuning.py contains a number of errors, specifically with importing WarmupLinearSchedule from transformers. Therefore, we define our own WarmupLinearSchedule in the run_lm_finetuning.py, and use run_experiments.sh to train the custom model on our recently created training data. \n",
    "\n",
    "The trained model itself is unfortunately too large to upload to github, but the .sh and .py scripts used to train and create this custom model are attached with this assignment repository. 6 out of the 7 files of which our model consists do fit on github, and can be found in the /CustomModel directory. For the sake of inclusivity, our entire trained model is also available [here](https://1drv.ms/u/s!AlUeI82AcSLCo41KNfOUS5dTqT0tEQ?e=4Wyq21)"
   ]
  },
  {
   "cell_type": "code",
   "execution_count": 15,
   "metadata": {},
   "outputs": [],
   "source": [
    "#using the models trained on our dataset:\n",
    "tokenizer = AutoTokenizer.from_pretrained('CustomModel/')\n",
    "model = AutoModelForCausalLM.from_pretrained('CustomModel/')"
   ]
  },
  {
   "cell_type": "markdown",
   "metadata": {},
   "source": [
    "We now want to test whether our trained model recognizes the Ingredients: etc. Instructions: etc. format.\n",
    "Therefore, we define a testsequence consisting of a list of ingredients from the test set"
   ]
  },
  {
   "cell_type": "code",
   "execution_count": 16,
   "metadata": {},
   "outputs": [],
   "source": [
    "testsequence = test[100].split('Instructions')[0] + \" \\n Instructions:\""
   ]
  },
  {
   "cell_type": "code",
   "execution_count": 17,
   "metadata": {
    "scrolled": true
   },
   "outputs": [
    {
     "name": "stdout",
     "output_type": "stream",
     "text": [
      " \n",
      " Ingredients: \n",
      " 1/4 cup oil \n",
      " 6 medium onions, chopped \n",
      " 4 bell peppers, chopped \n",
      " 3 carrots, chopped \n",
      " 1 cup string beans, broken into pieces \n",
      " 3/4 cup peas \n",
      " 6 tomatoes, chopped \n",
      " 1/2 teaspoon black pepper \n",
      " 1 teaspoon dried thyme \n",
      " 4 cups medium grain brown rice, cooked (cold) \n",
      " 1/2 cup tomato paste \n",
      "  \n",
      " Instructions:\n"
     ]
    }
   ],
   "source": [
    "print(testsequence)"
   ]
  },
  {
   "cell_type": "markdown",
   "metadata": {},
   "source": [
    "This has the perfect format for our model to recognize"
   ]
  },
  {
   "cell_type": "code",
   "execution_count": 18,
   "metadata": {},
   "outputs": [
    {
     "name": "stderr",
     "output_type": "stream",
     "text": [
      "Setting `pad_token_id` to `eos_token_id`:50256 for open-end generation.\n"
     ]
    }
   ],
   "source": [
    "encoded = tokenizer.encode(testsequence, add_special_tokens = False,\n",
    "                           return_tensors='pt')\n",
    "\n",
    "modelgenerated = model.generate(input_ids = encoded, max_length = 700,\n",
    "                                temperature = 0.9,\n",
    "                                top_k = 20,\n",
    "                                do_sample = True,\n",
    "                               repetition_penalty = 1.0)"
   ]
  },
  {
   "cell_type": "code",
   "execution_count": 19,
   "metadata": {},
   "outputs": [],
   "source": [
    "#For more information on hyperparameters:\n",
    "#model.generate?"
   ]
  },
  {
   "cell_type": "markdown",
   "metadata": {},
   "source": [
    "## And Success!\n",
    "The model recognizes the ingredient list format, and generates a recipe based on the available ingredients!"
   ]
  },
  {
   "cell_type": "code",
   "execution_count": 20,
   "metadata": {
    "scrolled": false
   },
   "outputs": [
    {
     "name": "stdout",
     "output_type": "stream",
     "text": [
      " \n",
      " Ingredients: \n",
      " 1/4 cup oil \n",
      " 6 medium onions, chopped \n",
      " 4 bell peppers, chopped \n",
      " 3 carrots, chopped \n",
      " 1 cup string beans, broken into pieces \n",
      " 3/4 cup peas \n",
      " 6 tomatoes, chopped \n",
      " 1/2 teaspoon black pepper \n",
      " 1 teaspoon dried thyme \n",
      " 4 cups medium grain brown rice, cooked (cold) \n",
      " 1/2 cup tomato paste \n",
      "  \n",
      " Instructions: \n",
      " Heat oil in a large frying pan. Add onions, garlic, and thyme. Add rice, cook, stir, and cook, stirring occasionally, about 10 minutes, or until rice is tender, about 1 hour. Add potatoes, 1 cup water, and cook, stirring occasionally, about 30 minutes. Add 1/2 cup rice. Stir in remaining 1/2 cup bean paste. Cook, stirring occasionally, until potato is tender, about 1 minute.  <|endoftext|>\n"
     ]
    }
   ],
   "source": [
    "for sequence in modelgenerated:\n",
    "    recipe = tokenizer.decode(sequence)\n",
    "    print(recipe)"
   ]
  },
  {
   "cell_type": "markdown",
   "metadata": {},
   "source": [
    "### Now, we want to create more recipes from our unused, test ingredient lists:"
   ]
  },
  {
   "cell_type": "code",
   "execution_count": 21,
   "metadata": {},
   "outputs": [
    {
     "name": "stderr",
     "output_type": "stream",
     "text": [
      "Setting `pad_token_id` to `eos_token_id`:50256 for open-end generation.\n",
      "Setting `pad_token_id` to `eos_token_id`:50256 for open-end generation.\n",
      "Setting `pad_token_id` to `eos_token_id`:50256 for open-end generation.\n",
      "Setting `pad_token_id` to `eos_token_id`:50256 for open-end generation.\n",
      "Setting `pad_token_id` to `eos_token_id`:50256 for open-end generation.\n",
      "Setting `pad_token_id` to `eos_token_id`:50256 for open-end generation.\n",
      "Setting `pad_token_id` to `eos_token_id`:50256 for open-end generation.\n",
      "Setting `pad_token_id` to `eos_token_id`:50256 for open-end generation.\n",
      "Setting `pad_token_id` to `eos_token_id`:50256 for open-end generation.\n",
      "Setting `pad_token_id` to `eos_token_id`:50256 for open-end generation.\n"
     ]
    }
   ],
   "source": [
    "#Generate recipes based on ingredients list and add them to a string\n",
    "AllRecipes = ''\n",
    "for i in range(10):\n",
    "    sequence = test[i].split('Instructions')[0] + \" \\n Instructions:\"\n",
    "    encoded = tokenizer.encode(testsequence, add_special_tokens = False,\n",
    "                           return_tensors='pt')\n",
    "\n",
    "    modelgenerated = model.generate(input_ids = encoded, max_length = 700,\n",
    "                                temperature = 0.9,\n",
    "                                top_k = 20,\n",
    "                                do_sample = True,\n",
    "                               repetition_penalty = 1.0)\n",
    "    for recipe in modelgenerated:\n",
    "        text = tokenizer.decode(recipe)\n",
    "        AllRecipes = AllRecipes + text\n",
    "    "
   ]
  },
  {
   "cell_type": "markdown",
   "metadata": {},
   "source": [
    "## Saving Recipes\n",
    "And finally, we save all of the created recipes in a .txt file"
   ]
  },
  {
   "cell_type": "code",
   "execution_count": 22,
   "metadata": {},
   "outputs": [],
   "source": [
    "#Defining a function to save generated recipes as .txt files:\n",
    "def save(recipe, filename):\n",
    "    text_file = open(filename, \"w\", encoding = 'utf8')\n",
    "    n = text_file.write(recipe)\n",
    "    text_file.close()"
   ]
  },
  {
   "cell_type": "code",
   "execution_count": 23,
   "metadata": {},
   "outputs": [],
   "source": [
    "save(AllRecipes, 'Recipes/AllRecipes.txt')"
   ]
  },
  {
   "cell_type": "code",
   "execution_count": 24,
   "metadata": {
    "scrolled": false
   },
   "outputs": [
    {
     "name": "stdout",
     "output_type": "stream",
     "text": [
      " \n",
      " Ingredients: \n",
      " 1/4 cup oil \n",
      " 6 medium onions, chopped \n",
      " 4 bell peppers, chopped \n",
      " 3 carrots, chopped \n",
      " 1 cup string beans, broken into pieces \n",
      " 3/4 cup peas \n",
      " 6 tomatoes, chopped \n",
      " 1/2 teaspoon black pepper \n",
      " 1 teaspoon dried thyme \n",
      " 4 cups medium grain brown rice, cooked (cold) \n",
      " 1/2 cup tomato paste \n",
      "  \n",
      " Instructions: \n",
      " Preheat oven to 400 degrees F (175 degrees C). Stir oil, oil, onion, carrot, and thyme together in a saucepan; add soup. In a saucepan heat oil in a large skillet over medium heat. Add onion and cook until onions are no longer pink and carrots are golden, about 1 minute. Stir potatoes and carrots, and cook until onions are tender tender, about 30 minutes. Add 1/2 cup water, and bring to a boil. Let boil for 10 minutes, then turn off heat, and cool again. Pour broth over the vegetables and cook for 8 minutes, then pour over the vegetables and cook 10 minutes. Stir broth over the vegetables and cook for 8 minutes.  <|endoftext|> \n",
      " Ingredients: \n",
      " 1/4 cup oil \n",
      " 6 medium onions, chopped \n",
      " 4 bell peppers, chopped \n",
      " 3 carrots, chopped \n",
      " 1 cup string beans, broken into pieces \n",
      " 3/4 cup peas \n",
      " 6 tomatoes, chopped \n",
      " 1/2 teaspoon black pepper \n",
      " 1 teaspoon dried thyme \n",
      " 4 cups medium grain brown rice, cooked (cold) \n",
      " 1/2 cup tomato paste \n",
      "  \n",
      " Instructions: \n",
      " Heat oil in a large skillet over medium heat. Cook onion, cabbage, carrots, garlic, onion, and tomatoes in hot oil until tender, about 5 minutes. Add peas; toss to coat. Add tomato paste and peas; cook, stirring often, until onions are tender and vegetables are just beginning to brown, about 3 to 4 minutes. Add beans; stir occasionally, adding more oil if necessary, until beans are tender, at least 2 minutes per side. Add carrots; cook, stirring occasionally, until beans are cooked through and potatoes are just beginning to brown, about 2 minutes. Pour salsa into hot oil. Bring to a boil; cook, stirring often, until tomatoes are cooked through. Add beans; stir occasionally, until sauce has run clear, about 15 minutes. Add carrots; cook, stirring occasionally, until beans are tender and vegetables are just beginning to brown, about 5 minutes. Add tomatoes; stir occasionally in water until sauce is dissolved and beans are just beginning to brown. Drain beans with cold water. <|endoftext|> \n",
      " Ingredients: \n",
      " 1/4 cup oil \n",
      " 6 medium onions, chopped \n",
      " 4 bell peppers, chopped \n",
      " 3 carrots, chopped \n",
      " 1 cup string beans, broken into pieces \n",
      " 3/4 cup peas \n",
      " 6 tomatoes, chopped \n",
      " 1/2 teaspoon black pepper \n",
      " 1 teaspoon dried thyme \n",
      " 4 cups medium grain brown rice, cooked (cold) \n",
      " 1/2 cup tomato paste \n",
      "  \n",
      " Instructions: \n",
      " Preheat oven to 350 degrees F (175 degrees C). Place onion in a blender and mix in water until smooth, about 3 minutes. Stir together onions, carrots, garlic, and thyme. Add water. Beat the rice and vinegar in the same manner. Mix in tomatoes. Bring the water to a boil; let sit at least 4 hours. Cover. Cook for 8 to 10 minutes. Preheat oven to 350 degrees F (175 degrees C). Place onion in a blender and mix in water until smooth, about 3 minutes. Stir together onion, carrots, garlic, and thyme. Add water. Beat the rice and vinegar in the same manner. Mix in tomatoes. Bring the water to a simmer; let sit at least 4 hours. Cover. Cook for 8 to 10 minutes. <|endoftext|> \n",
      " Ingredients: \n",
      " 1/4 cup oil \n",
      " 6 medium onions, chopped \n",
      " 4 bell peppers, chopped \n",
      " 3 carrots, chopped \n",
      " 1 cup string beans, broken into pieces \n",
      " 3/4 cup peas \n",
      " 6 tomatoes, chopped \n",
      " 1/2 teaspoon black pepper \n",
      " 1 teaspoon dried thyme \n",
      " 4 cups medium grain brown rice, cooked (cold) \n",
      " 1/2 cup tomato paste \n",
      "  \n",
      " Instructions: \n",
      " Preheat oven to 350 degrees F (175 degrees C). Mix the oil, cooking oil and onion in a skillet over medium-high heat until just starting to brown and the onion is soft, 20 to 25 minutes. Add the vegetables and cook for 10 minutes or until vegetables are tender and just beginning to brown again. In a medium bowl, mix together the tomatoes, carrots, and thyme. Add a pinch of salt and whisk in the tomato paste. Pour the beans evenly in the soup. Stir in the vegetables and cook for 10 minutes or until vegetables are tender, about 5 minutes. Remove to a towel to cool. Serve. Bring to a boil. Reduce heat to low, cover pot, and simmer until the soup is just beginning to brown and the tomatoes are tender, about 25 minutes. Remove from heat to low. Heat the oil in a skillet over medium-high heat until just starting to brown and the onion is soft, 20 to 25 minutes. Add the vegetables and cook for 10 minutes or until vegetables are tender and just beginning to brown again. In a medium bowl, mix together the tomatoes, carrots, and thyme. Add a pinch of salt and whisk in the tomato paste. Pour the beans evenly in the soup. Stir in the vegetables and cook for 10 minutes or until vegetables are tender and just beginning to brown again. In a medium bowl, mix together the tomatoes, carrots, and thyme. Add a pinch of salt and whisk in the tomato paste. Pour the beans evenly in the soup. Stir in the vegetables and cook for 10 minutes or until vegetables are tender and just beginning to brown again. <|endoftext|> \n",
      " Ingredients: \n",
      " 1/4 cup oil \n",
      " 6 medium onions, chopped \n",
      " 4 bell peppers, chopped \n",
      " 3 carrots, chopped \n",
      " 1 cup string beans, broken into pieces \n",
      " 3/4 cup peas \n",
      " 6 tomatoes, chopped \n",
      " 1/2 teaspoon black pepper \n",
      " 1 teaspoon dried thyme \n",
      " 4 cups medium grain brown rice, cooked (cold) \n",
      " 1/2 cup tomato paste \n",
      "  \n",
      " Instructions: \n",
      " Preheat oven to 350 degrees F (175 degrees C). Peel onions. Peel onions. Peel onion, carrots, and tomatoes. Sprinkle with thyme. Add beans. Cover with plastic wrap. In a large bowl, combine oil, onions, carrots, and thyme. Whisk in tomatoes, peas, and yolks. Cook over high heat, stirring frequently, until tomatoes are crisp. Whisk together rice mixture, corn syrup, and 1/2 teaspoon garlic powder. Pour batter into a large bowl in a blender. Pour mixture into a large bowl. Add tomatoes, carrots, and tomatoes. Mix well. Bake in the preheated oven for 20 minutes, or until beans are golden. <|endoftext|> \n",
      " Ingredients: \n",
      " 1/4 cup oil \n",
      " 6 medium onions, chopped \n",
      " 4 bell peppers, chopped \n",
      " 3 carrots, chopped \n",
      " 1 cup string beans, broken into pieces \n",
      " 3/4 cup peas \n",
      " 6 tomatoes, chopped \n",
      " 1/2 teaspoon black pepper \n",
      " 1 teaspoon dried thyme \n",
      " 4 cups medium grain brown rice, cooked (cold) \n",
      " 1/2 cup tomato paste \n",
      "  \n",
      " Instructions: \n",
      " Preheat oven to 350°F. Grease a 9x13-inch baking dish. Using a slotted spatula, mix all ingredients together in 2 tablespoons oil. Place onion in a food processor, stir into the onions and bell peppers, and toss to coat and set aside. In a large, well-stored saucepan, bring to a boil and simmer. Add garlic, thyme, beans, 1/2 cup oil, 1/2 cup water, and 1/2 teaspoon salt. Add broth to saucepan and cook, stirring occasionally, until vegetables are tender, about 5 minutes. Stir in carrots and thyme. Remove from heat and let cool. Place in a serving dish or serving dish. <|endoftext|> \n",
      " Ingredients: \n",
      " 1/4 cup oil \n",
      " 6 medium onions, chopped \n",
      " 4 bell peppers, chopped \n",
      " 3 carrots, chopped \n",
      " 1 cup string beans, broken into pieces \n",
      " 3/4 cup peas \n",
      " 6 tomatoes, chopped \n",
      " 1/2 teaspoon black pepper \n",
      " 1 teaspoon dried thyme \n",
      " 4 cups medium grain brown rice, cooked (cold) \n",
      " 1/2 cup tomato paste \n",
      "  \n",
      " Instructions: \n",
      " Preheat oven to 350 degrees F (175 degrees C). Grease 12x9 inch baking dish and line baking dish with aluminum foil. Preheat oven to 350 degrees F (175 degrees C). Grease 12x9 inch baking dish and line baking dish with aluminum foil. Preheat oven to 350 degrees F (175 degrees C). Grease 12x9 inch baking dish and line baking dish with aluminum foil. <|endoftext|> \n",
      " Ingredients: \n",
      " 1/4 cup oil \n",
      " 6 medium onions, chopped \n",
      " 4 bell peppers, chopped \n",
      " 3 carrots, chopped \n",
      " 1 cup string beans, broken into pieces \n",
      " 3/4 cup peas \n",
      " 6 tomatoes, chopped \n",
      " 1/2 teaspoon black pepper \n",
      " 1 teaspoon dried thyme \n",
      " 4 cups medium grain brown rice, cooked (cold) \n",
      " 1/2 cup tomato paste \n",
      "  \n",
      " Instructions: \n",
      " Heat a deep-fryer in a heavy skillet over medium heat. Cook onion, carrot, carrots, carrots, carrots, carrots, carrots, tomato paste, and thyme. Cook and stir until onions are soft, about 5 minutes. Add broth to skillet over medium heat, then pour broth over onions. Cook, stirring often, until vegetables are soft enough to hold together, 2 to 3 minutes. Add beans. Add water, and cook until beans are soft enough to hold together, 1 to 2 minutes. Add rice. Add broth. Bring to simmer, about 1 minute. Add flour, and stir until mixture is smooth and mixture thick. Pour beans into skillet. Cook, stirring constantly, until mixture is thick enough to hold together, 2 to 3 minutes, or until liquid is evaporated. Stir in water. Remove from heat. Season with salt. Transfer beans to bowls. Cook, stirring constantly, until rice is tender and liquid is absorbed. Stir in rice mixture. Add water, and cook until rice is firm, about 2 minutes. Pour beans into bowls. Serve warm. <|endoftext|> \n",
      " Ingredients: \n",
      " 1/4 cup oil \n",
      " 6 medium onions, chopped \n",
      " 4 bell peppers, chopped \n",
      " 3 carrots, chopped \n",
      " 1 cup string beans, broken into pieces \n",
      " 3/4 cup peas \n",
      " 6 tomatoes, chopped \n",
      " 1/2 teaspoon black pepper \n",
      " 1 teaspoon dried thyme \n",
      " 4 cups medium grain brown rice, cooked (cold) \n",
      " 1/2 cup tomato paste \n",
      "  \n",
      " Instructions: \n",
      " Preheat oven to 450 degrees F (220 degrees C). Line a 10 x 13 x 2-inch baking dish with parchment-lined baking sheet. Roll out each chicken mixture into 3/4 cup oil. In a large bowl, beat together the onions, carrots, and thyme. In a large bowl, beat together the peas, 1 cup water, rice, beans, and thyme. Mix well. Bake in preheated oven, 35 minutes. <|endoftext|> \n",
      " Ingredients: \n",
      " 1/4 cup oil \n",
      " 6 medium onions, chopped \n",
      " 4 bell peppers, chopped \n",
      " 3 carrots, chopped \n",
      " 1 cup string beans, broken into pieces \n",
      " 3/4 cup peas \n",
      " 6 tomatoes, chopped \n",
      " 1/2 teaspoon black pepper \n",
      " 1 teaspoon dried thyme \n",
      " 4 cups medium grain brown rice, cooked (cold) \n",
      " 1/2 cup tomato paste \n",
      "  \n",
      " Instructions: \n",
      " Heat oil in a large mixing bowl and cook garlic; saute for 30 minutes, or until onions are tender. Add tomatoes, carrots, and thyme; stir until evenly combined. Season with salt and pepper. Transfer beans mixture to bowls; bring to a boil. Remove from heat and stir in parsley; cook for another 10 minutes. Stir in bread flour; sprinkle.  <|endoftext|>\n"
     ]
    }
   ],
   "source": [
    "print(AllRecipes)"
   ]
  },
  {
   "cell_type": "markdown",
   "metadata": {},
   "source": [
    "And that's it! We have now trained a custom NLP model that can generate recipes based on a list of ingredients. The next time thre's food in your fridge but you don't know what to eat, just ask the model!"
   ]
  },
  {
   "cell_type": "markdown",
   "metadata": {},
   "source": [
    "Contributors: Emilia, Sergio, Tim"
   ]
  }
 ],
 "metadata": {
  "kernelspec": {
   "display_name": "Python 3",
   "language": "python",
   "name": "python3"
  },
  "language_info": {
   "codemirror_mode": {
    "name": "ipython",
    "version": 3
   },
   "file_extension": ".py",
   "mimetype": "text/x-python",
   "name": "python",
   "nbconvert_exporter": "python",
   "pygments_lexer": "ipython3",
   "version": "3.7.6"
  }
 },
 "nbformat": 4,
 "nbformat_minor": 4
}
